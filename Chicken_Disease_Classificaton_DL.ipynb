{
  "nbformat": 4,
  "nbformat_minor": 0,
  "metadata": {
    "colab": {
      "provenance": [],
      "authorship_tag": "ABX9TyO6J2qCNowCT/IHvY7AD2WK",
      "include_colab_link": true
    },
    "kernelspec": {
      "name": "python3",
      "display_name": "Python 3"
    },
    "language_info": {
      "name": "python"
    }
  },
  "cells": [
    {
      "cell_type": "markdown",
      "metadata": {
        "id": "view-in-github",
        "colab_type": "text"
      },
      "source": [
        "<a href=\"https://colab.research.google.com/github/rixwan-khan/Chicken_Disease_Classification/blob/main/Chicken_Disease_Classificaton_DL.ipynb\" target=\"_parent\"><img src=\"https://colab.research.google.com/assets/colab-badge.svg\" alt=\"Open In Colab\"/></a>"
      ]
    },
    {
      "cell_type": "code",
      "execution_count": null,
      "metadata": {
        "colab": {
          "base_uri": "https://localhost:8080/"
        },
        "id": "yD_QEz-GarUh",
        "outputId": "3ab80a8f-da6b-449c-8656-e9db9b60d96c"
      },
      "outputs": [
        {
          "output_type": "stream",
          "name": "stdout",
          "text": [
            "Mounted at /content/drive\n"
          ]
        }
      ],
      "source": [
        "from google.colab import drive\n",
        "drive.mount('/content/drive')"
      ]
    },
    {
      "cell_type": "code",
      "source": [
        "!git clone https://github.com/rixwan-khan/Chicken_Disease_Classification"
      ],
      "metadata": {
        "collapsed": true,
        "id": "UvKP9UEldps-",
        "outputId": "8bcbc0aa-af21-4b3d-beea-8a7e8a1fcc13",
        "colab": {
          "base_uri": "https://localhost:8080/"
        }
      },
      "execution_count": null,
      "outputs": [
        {
          "output_type": "stream",
          "name": "stdout",
          "text": [
            "Cloning into 'Chicken_Disease_Classification'...\n",
            "remote: Enumerating objects: 5, done.\u001b[K\n",
            "remote: Counting objects: 100% (5/5), done.\u001b[K\n",
            "remote: Compressing objects: 100% (4/4), done.\u001b[K\n",
            "remote: Total 5 (delta 0), reused 0 (delta 0), pack-reused 0 (from 0)\u001b[K\n",
            "Receiving objects: 100% (5/5), done.\n"
          ]
        }
      ]
    },
    {
      "cell_type": "code",
      "source": [
        "%cd /content/Chicken_Disease_Classification/"
      ],
      "metadata": {
        "colab": {
          "base_uri": "https://localhost:8080/"
        },
        "id": "H9zPZ171e4Kp",
        "outputId": "dead46fe-a07c-4ec4-8625-78bdc82b45e3"
      },
      "execution_count": null,
      "outputs": [
        {
          "output_type": "stream",
          "name": "stdout",
          "text": [
            "/content/Chicken_Disease_Classification\n"
          ]
        }
      ]
    },
    {
      "cell_type": "code",
      "source": [
        "!cp \"/content/drive/MyDrive/Colab Notebooks/Deep Learning/Chicken_Disease_Classificaton_DL.ipynb\" /content/Chicken_Disease_Classification/"
      ],
      "metadata": {
        "colab": {
          "base_uri": "https://localhost:8080/"
        },
        "id": "eNSh1cjWfjwG",
        "outputId": "e4f20b18-2337-4022-d36b-50b059d05e63"
      },
      "execution_count": null,
      "outputs": [
        {
          "output_type": "stream",
          "name": "stdout",
          "text": [
            "cp: cannot stat '/content/drive/MyDrive/Colab Notebooks/Deep Learning/Chicken_Disease_Classificaton_DL.ipynb': No such file or directory\n"
          ]
        }
      ]
    },
    {
      "cell_type": "code",
      "source": [
        "!ls \"/content/drive/MyDrive/Colab Notebooks/Deep Learning/Chicken_Disease_Classificaton_DL.ipynb\" /content/Chicken_Disease_Classification/"
      ],
      "metadata": {
        "colab": {
          "base_uri": "https://localhost:8080/"
        },
        "id": "Y3JIOu0Gfkyp",
        "outputId": "3c0ac253-b18a-45a6-877e-521b66239963"
      },
      "execution_count": null,
      "outputs": [
        {
          "output_type": "stream",
          "name": "stdout",
          "text": [
            "'/content/drive/MyDrive/Colab Notebooks/Deep Learning/Chicken_Disease_Classificaton_DL.ipynb'\n",
            "\n",
            "/content/Chicken_Disease_Classification/:\n",
            "LICENSE  README.md\n"
          ]
        }
      ]
    },
    {
      "cell_type": "code",
      "source": [
        "%cd /content/Chicken_Disease_Classification"
      ],
      "metadata": {
        "colab": {
          "base_uri": "https://localhost:8080/"
        },
        "id": "0IpVR-hNgtGR",
        "outputId": "fdddb7c9-2a9c-4b0e-d583-a7b4919f3fe2"
      },
      "execution_count": null,
      "outputs": [
        {
          "output_type": "stream",
          "name": "stdout",
          "text": [
            "/content/Chicken_Disease_Classification\n"
          ]
        }
      ]
    },
    {
      "cell_type": "code",
      "source": [
        "!git config --global user.email \"rixwan.khan.ahmad@gmail.com\"\n",
        "!git config --global user.name \"rixwan-khan\""
      ],
      "metadata": {
        "id": "MFdh8HHfjssK"
      },
      "execution_count": null,
      "outputs": []
    },
    {
      "cell_type": "code",
      "source": [
        "!git add Chicken_Disease_Classificaton_DL.ipynb"
      ],
      "metadata": {
        "colab": {
          "base_uri": "https://localhost:8080/"
        },
        "id": "mj_wbPJqj7_C",
        "outputId": "55996625-5995-4525-ae1d-08621421cebd"
      },
      "execution_count": null,
      "outputs": [
        {
          "output_type": "stream",
          "name": "stdout",
          "text": [
            "fatal: pathspec 'Chicken_Disease_Classificaton_DL.ipynb' did not match any files\n"
          ]
        }
      ]
    },
    {
      "cell_type": "code",
      "source": [
        "!ls /content/Chicken_Disease_Classification\n"
      ],
      "metadata": {
        "colab": {
          "base_uri": "https://localhost:8080/"
        },
        "id": "F88II1fQkD_C",
        "outputId": "323ca3a3-ff28-45e1-d10c-9a3aa7e15ecc"
      },
      "execution_count": null,
      "outputs": [
        {
          "output_type": "stream",
          "name": "stdout",
          "text": [
            "LICENSE  README.md\n"
          ]
        }
      ]
    },
    {
      "cell_type": "code",
      "source": [
        "!echo '{\"cells\": [], \"metadata\": {}, \"nbformat\": 4, \"nbformat_minor\": 0}' > research/01_data_ingestion.ipynb\n"
      ],
      "metadata": {
        "id": "uYHF9CSPkUfC"
      },
      "execution_count": 12,
      "outputs": []
    },
    {
      "cell_type": "code",
      "source": [],
      "metadata": {
        "id": "DWwnQk3mPLLo"
      },
      "execution_count": null,
      "outputs": []
    }
  ]
}